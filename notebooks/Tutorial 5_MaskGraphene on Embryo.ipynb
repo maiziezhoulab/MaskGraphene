{
 "cells": [
  {
   "cell_type": "markdown",
   "metadata": {},
   "source": [
    "# Tutorial 5: Integrate Embryo data with MaskGraphene"
   ]
  },
  {
   "cell_type": "code",
   "execution_count": 1,
   "metadata": {},
   "outputs": [
    {
     "name": "stderr",
     "output_type": "stream",
     "text": [
      "/home/huy21/anaconda3/envs/MaskGraphene/lib/python3.9/site-packages/torchdata/datapipes/__init__.py:18: UserWarning: \n",
      "################################################################################\n",
      "WARNING!\n",
      "The 'datapipes', 'dataloader2' modules are deprecated and will be removed in a\n",
      "future torchdata release! Please see https://github.com/pytorch/data/issues/1196\n",
      "to learn more and leave feedback.\n",
      "################################################################################\n",
      "\n",
      "  deprecation_warning()\n",
      "/home/huy21/anaconda3/envs/MaskGraphene/lib/python3.9/site-packages/tqdm/auto.py:21: TqdmWarning: IProgress not found. Please update jupyter and ipywidgets. See https://ipywidgets.readthedocs.io/en/stable/user_install.html\n",
      "  from .autonotebook import tqdm as notebook_tqdm\n"
     ]
    }
   ],
   "source": [
    "import logging\n",
    "import numpy as np\n",
    "from tqdm import tqdm\n",
    "import torch\n",
    "import pickle\n",
    "import sys\n",
    "import os\n",
    "import scanpy as sc\n",
    "import sklearn.metrics.pairwise\n",
    "\n",
    "# Get the parent directory of the current script\n",
    "parent_dir = os.path.abspath(os.path.join(os.getcwd(), os.pardir))\n",
    "\n",
    "# Add the parent directory to the system path\n",
    "sys.path.insert(0, parent_dir)\n",
    "\n",
    "from utils import (\n",
    "    build_args_ST,\n",
    "    create_optimizer\n",
    ")\n",
    "from datasets.st_loading_utils import visualization_umap_spatial, create_dictionary_mnn\n",
    "from models import build_model_ST"
   ]
  },
  {
   "cell_type": "code",
   "execution_count": null,
   "metadata": {},
   "outputs": [],
   "source": [
    "# python ../maskgraphene_main_dev.py --max_epoch 2000 --max_epoch_triplet 500 --logging False --section_ids \" E12.5_E1S1.h5ad,E13.5_E1S1.h5ad\" --num_class 23 --load_model False --num_hidden \"512,32\" \\\n",
    "#                                --exp_fig_dir \"./\" --h5ad_save_dir \"./\" --st_data_dir \"/maiziezhou_lab/yunfei/Projects/spatial_benchmarking/benchmarking_data/Embryo\" --alpha_l 1 --lam 1 --loss_fn \"sce\" --mask_rate 0.1 --in_drop 0 --attn_drop 0 --remask_rate 0.1 \\\n",
    "#                                --mapping_mat \"./\" \\\n",
    "#                                --seeds 2023 42 2 3 4 5 6 7 8 9 2024 --num_remasking 1 --dataset Embryo --lr 0.001 --log_name \"./mg0916_embryo.log\" --hvgs 7500"
   ]
  },
  {
   "cell_type": "code",
   "execution_count": 2,
   "metadata": {},
   "outputs": [],
   "source": [
    "args = build_args_ST()\n",
    "\n",
    "args.section_ids=[\"E11.5_E1S1.h5ad\",\"E12.5_E1S1.h5ad\"]\n",
    "num_hidden = [512,32]\n",
    "lr = 0.0003\n",
    "args.max_epoch = 3000\n",
    "args.max_epoch_triplet = 500\n",
    "args.dataset = \"Embryo\"\n",
    "args.num_hidden = num_hidden\n",
    "args.num_layers = len(num_hidden)\n",
    "\n",
    "args.alpha_l = 1\n",
    "args.lam = 1\n",
    "args.loss_fn = \"sce\"\n",
    "args.mask_rate = 0.4\n",
    "args.in_drop = 0.1\n",
    "args.attn_drop = 0.05\n",
    "args.remask_rate = 0.1\n",
    "args.seeds = [2024]\n",
    "args.hvgs = 7500\n",
    "args.lr = lr\n",
    "args.activation = \"prelu\"\n",
    "args.negative_slope = 0.2\n",
    "args.num_dec_layers = 1\n",
    "\n",
    "#### remember to change these paths to your data path/link path\n",
    "args.st_data_dir=\"../../spatial_benchmarking/benchmarking_data/Embryo\"\n",
    "args.hl_dir=\"../hard_links/Embryo\""
   ]
  },
  {
   "cell_type": "code",
   "execution_count": 18,
   "metadata": {},
   "outputs": [
    {
     "name": "stdout",
     "output_type": "stream",
     "text": [
      "['E11.5_E1S1.h5ad', 'E12.5_E1S1.h5ad']\n"
     ]
    },
    {
     "name": "stderr",
     "output_type": "stream",
     "text": [
      "/home/huy21/anaconda3/envs/MaskGraphene/lib/python3.9/site-packages/anndata/_core/merge.py:1033: PerformanceWarning: DataFrame is highly fragmented.  This is usually the result of calling `frame.insert` many times, which has poor performance.  Consider joining all columns at once using pd.concat(axis=1) instead. To get a de-fragmented frame, use `newframe = frame.copy()`\n",
      "  concat_annot[label] = label_col\n",
      "/maiziezhou_lab/yunfei/Projects/MaskGraphene/datasets/data_proc.py:674: PerformanceWarning: DataFrame is highly fragmented.  This is usually the result of calling `frame.insert` many times, which has poor performance.  Consider joining all columns at once using pd.concat(axis=1) instead. To get a de-fragmented frame, use `newframe = frame.copy()`\n",
      "  adata_concat.obs[\"batch_name\"] = adata_concat.obs[\"slice_name\"].astype('category')\n",
      "/home/huy21/anaconda3/envs/MaskGraphene/lib/python3.9/site-packages/scanpy/preprocessing/_highly_variable_genes.py:62: UserWarning: `flavor='seurat_v3'` expects raw count data, but non-integers were found.\n",
      "  warnings.warn(\n"
     ]
    },
    {
     "name": "stdout",
     "output_type": "stream",
     "text": [
      "num of class\n",
      "19\n"
     ]
    }
   ],
   "source": [
    "import dgl\n",
    "import scipy\n",
    "import anndata\n",
    "from datasets.data_proc import load_ST_dataset\n",
    "\n",
    "dataset_name = args.dataset\n",
    "section_ids = args.section_ids\n",
    "\n",
    "graph, (num_features, num_cls), ad_concat = load_ST_dataset(dataset_name=dataset_name, section_ids=section_ids, args_=args)\n",
    "args.num_features = num_features\n",
    "args.num_class = num_cls\n",
    "x = graph.ndata[\"feat\"]"
   ]
  },
  {
   "cell_type": "code",
   "execution_count": 19,
   "metadata": {},
   "outputs": [
    {
     "name": "stdout",
     "output_type": "stream",
     "text": [
      "=== Use sce_loss and alpha_l=1 ===\n",
      "num_encoder_params: 3858017, num_decoder_params: 262500, num_params_in_total: 4163443\n",
      "PreModel(\n",
      "  (encoder): GAT(\n",
      "    (gat_layers): ModuleList(\n",
      "      (0): GATConv(\n",
      "        (fc): Linear(in_features=7500, out_features=512, bias=False)\n",
      "        (feat_drop): Dropout(p=0.1, inplace=False)\n",
      "        (attn_drop): Dropout(p=0.05, inplace=False)\n",
      "        (leaky_relu): LeakyReLU(negative_slope=0.2)\n",
      "        (activation): PReLU(num_parameters=1)\n",
      "      )\n",
      "      (1): GATConv(\n",
      "        (fc): Linear(in_features=512, out_features=32, bias=False)\n",
      "        (feat_drop): Dropout(p=0.1, inplace=False)\n",
      "        (attn_drop): Dropout(p=0.05, inplace=False)\n",
      "        (leaky_relu): LeakyReLU(negative_slope=0.2)\n",
      "      )\n",
      "    )\n",
      "    (head): Identity()\n",
      "  )\n",
      "  (decoder): GAT(\n",
      "    (gat_layers): ModuleList(\n",
      "      (0): GATConv(\n",
      "        (fc): Linear(in_features=32, out_features=7500, bias=False)\n",
      "        (feat_drop): Dropout(p=0.1, inplace=False)\n",
      "        (attn_drop): Dropout(p=0.05, inplace=False)\n",
      "        (leaky_relu): LeakyReLU(negative_slope=0.2)\n",
      "      )\n",
      "    )\n",
      "    (head): Identity()\n",
      "  )\n",
      "  (encoder_to_decoder): Linear(in_features=32, out_features=32, bias=False)\n",
      "  (projector): Sequential(\n",
      "    (0): Linear(in_features=32, out_features=512, bias=True)\n",
      "    (1): PReLU(num_parameters=1)\n",
      "    (2): Linear(in_features=512, out_features=32, bias=True)\n",
      "  )\n",
      "  (projector_ema): Sequential(\n",
      "    (0): Linear(in_features=32, out_features=512, bias=True)\n",
      "    (1): PReLU(num_parameters=1)\n",
      "    (2): Linear(in_features=512, out_features=32, bias=True)\n",
      "  )\n",
      "  (predictor): Sequential(\n",
      "    (0): PReLU(num_parameters=1)\n",
      "    (1): Linear(in_features=32, out_features=32, bias=True)\n",
      "  )\n",
      "  (encoder_ema): GAT(\n",
      "    (gat_layers): ModuleList(\n",
      "      (0): GATConv(\n",
      "        (fc): Linear(in_features=7500, out_features=512, bias=False)\n",
      "        (feat_drop): Dropout(p=0.1, inplace=False)\n",
      "        (attn_drop): Dropout(p=0.05, inplace=False)\n",
      "        (leaky_relu): LeakyReLU(negative_slope=0.2)\n",
      "        (activation): PReLU(num_parameters=1)\n",
      "      )\n",
      "      (1): GATConv(\n",
      "        (fc): Linear(in_features=512, out_features=32, bias=False)\n",
      "        (feat_drop): Dropout(p=0.1, inplace=False)\n",
      "        (attn_drop): Dropout(p=0.05, inplace=False)\n",
      "        (leaky_relu): LeakyReLU(negative_slope=0.2)\n",
      "      )\n",
      "    )\n",
      "    (head): Identity()\n",
      "  )\n",
      ")\n"
     ]
    }
   ],
   "source": [
    "model = build_model_ST(args)\n",
    "print(model)\n",
    "\n",
    "device = args.device if args.device >= 0 else \"cpu\"\n",
    "model.to(device)\n",
    "\n",
    "optim_type = args.optimizer \n",
    "lr = args.lr\n",
    "weight_decay = args.weight_decay\n",
    "optimizer = create_optimizer(optim_type, model, lr, weight_decay)\n",
    "\n",
    "use_scheduler = args.scheduler\n",
    "max_epoch = args.max_epoch\n",
    "max_epoch_triplet = args.max_epoch_triplet\n",
    "if use_scheduler:\n",
    "    logging.critical(\"Use scheduler\")\n",
    "    scheduler = lambda epoch :( 1 + np.cos((epoch) * np.pi / max_epoch) ) * 0.5\n",
    "    scheduler = torch.optim.lr_scheduler.LambdaLR(optimizer, lr_lambda=scheduler)\n",
    "else:\n",
    "    scheduler = None\n",
    "\n",
    "model.to(device)\n",
    "graph = graph.to(device)\n",
    "x = x.to(device)"
   ]
  },
  {
   "cell_type": "code",
   "execution_count": null,
   "metadata": {},
   "outputs": [],
   "source": [
    "from maskgraphene_main import MG, MG_triplet\n",
    "\n",
    "model, ad_concat_1 = MG(model, graph, x, optimizer, max_epoch, device, ad_concat, scheduler, logger=None, key_=\"MG\")\n",
    "model, ad_concat_2 = MG_triplet(model, graph, x, optimizer, max_epoch_triplet, device, adata_concat_=ad_concat_1, scheduler=scheduler, logger=None, key_=\"MG_triplet\")"
   ]
  },
  {
   "cell_type": "code",
   "execution_count": null,
   "metadata": {},
   "outputs": [],
   "source": [
    "exp_fig_dir = \"./temp\"\n",
    "if not os.path.exists(os.path.join(exp_fig_dir, dataset_name+'_'.join(section_ids))):\n",
    "    os.makedirs(os.path.join(exp_fig_dir, dataset_name+'_'.join(section_ids)))\n",
    "\n",
    "exp_fig_dir = os.path.join(exp_fig_dir, dataset_name+'_'.join(section_ids))\n",
    "\n",
    "ari_ = visualization_umap_spatial(ad_temp=ad_concat_2, section_ids=section_ids, exp_fig_dir=exp_fig_dir, dataset_name=dataset_name, num_iter=\"0\", identifier=\"stage2\", num_class=args.num_class, use_key=\"MG_triplet\")\n",
    "# ari_2.append(ari_[1])\n",
    "print(section_ids[0], ', ARI = %01.3f' % ari_[0])\n",
    "print(section_ids[1], ', ARI = %01.3f' % ari_[1])"
   ]
  }
 ],
 "metadata": {
  "kernelspec": {
   "display_name": "MaskGraphene",
   "language": "python",
   "name": "python3"
  },
  "language_info": {
   "codemirror_mode": {
    "name": "ipython",
    "version": 3
   },
   "file_extension": ".py",
   "mimetype": "text/x-python",
   "name": "python",
   "nbconvert_exporter": "python",
   "pygments_lexer": "ipython3",
   "version": "3.9.19"
  }
 },
 "nbformat": 4,
 "nbformat_minor": 2
}
